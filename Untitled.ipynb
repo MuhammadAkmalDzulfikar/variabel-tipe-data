{
 "cells": [
  {
   "cell_type": "markdown",
   "id": "a44630d1",
   "metadata": {},
   "source": [
    "<h1>VARIABEL DAN TIPE DATA PYTHON\n",
    "   "
   ]
  },
  {
   "cell_type": "markdown",
   "id": "2a690700",
   "metadata": {},
   "source": [
    "<font color=\"red\">beberapa aturan</font> <font color=\"blue\">pembuatan variabel di</font> <b>python :</b><b>\n",
    "   \n",
    "<ul>\n",
    "        <li>bersifat case sensitif => a != A</li>\n",
    "        <li>harus diawali dengan huruf dan karakter _(underscore)</li>\n",
    "        <li>tidak boleh menggunakan spasi</li>\n",
    "        <li>tidak boleh menggunakan spasi</li>\n",
    "        <li>boleh menggunakan angka</li>\n",
    "</ul>\n",
    "    \n"
   ]
  },
  {
   "cell_type": "code",
   "execution_count": 90,
   "id": "5713c0da",
   "metadata": {},
   "outputs": [
    {
     "name": "stdout",
     "output_type": "stream",
     "text": [
      "10\n",
      "0.5\n",
      "1\n",
      "True\n"
     ]
    }
   ],
   "source": [
    "data_int = 10\n",
    "data_float = 0.5\n",
    "data_string = \"1\"\n",
    "data_bool = True\n",
    "\n",
    "print(data_int)\n",
    "print(data_float)\n",
    "print(data_string)\n",
    "print(data_bool)"
   ]
  },
  {
   "cell_type": "markdown",
   "id": "8ca9b4f2",
   "metadata": {},
   "source": [
    "untuk mengetahui sebuah data dari tipe variabel gunakan command <b>TYPE</b>"
   ]
  },
  {
   "cell_type": "code",
   "execution_count": 80,
   "id": "077589ee",
   "metadata": {},
   "outputs": [
    {
     "name": "stdout",
     "output_type": "stream",
     "text": [
      "<class 'int'>\n",
      "<class 'bool'>\n",
      "<class 'str'>\n",
      "<class 'float'>\n"
     ]
    }
   ],
   "source": [
    "print(type(data_int))\n",
    "print(type(data_bool))\n",
    "print(type(data_string))\n",
    "print(type(data_float))"
   ]
  },
  {
   "cell_type": "markdown",
   "id": "040c4600",
   "metadata": {},
   "source": [
    "Pada python terdapat proses <b>CASTING</b> yaitu konversi dari sebuah tipe data ke tipe data yang lain, yaitu dengan syntax <b>tipe data_(nama_variabel)</b>"
   ]
  },
  {
   "cell_type": "code",
   "execution_count": 83,
   "id": "50fb1044",
   "metadata": {},
   "outputs": [
    {
     "name": "stdout",
     "output_type": "stream",
     "text": [
      "nilai variabel data_int = 10\n",
      "10.0\n",
      "10\n",
      "True\n"
     ]
    }
   ],
   "source": [
    "int_to_float  = float (data_int)\n",
    "int_to_string = str (data_int)\n",
    "int_to_bool   = bool (data_int)\n",
    "\n",
    "print(\"nilai variabel data_int =\",data_int)\n",
    "print(int_to_float)\n",
    "print(int_to_string)\n",
    "print(int_to_bool)"
   ]
  },
  {
   "cell_type": "code",
   "execution_count": 92,
   "id": "440aa8f4",
   "metadata": {},
   "outputs": [
    {
     "name": "stdout",
     "output_type": "stream",
     "text": [
      "nilai variabel data_string = 1\n",
      "1.0\n",
      "1\n",
      "True\n"
     ]
    }
   ],
   "source": [
    "string_to_float  = float (data_string)\n",
    "string_to_int    = int (data_string)\n",
    "string_to_bool   = bool (data_string)\n",
    "\n",
    "print(\"nilai variabel data_string =\",data_string)\n",
    "print(string_to_float)\n",
    "print(string_to_int)\n",
    "print(string_to_bool)"
   ]
  },
  {
   "cell_type": "code",
   "execution_count": 94,
   "id": "e29e98d0",
   "metadata": {},
   "outputs": [
    {
     "name": "stdout",
     "output_type": "stream",
     "text": [
      "nilai variabel data_float = 0.5\n",
      "0\n",
      "True\n",
      "0.5\n"
     ]
    }
   ],
   "source": [
    "float_to_string  = str (data_float)\n",
    "float_to_int     = int (data_float)\n",
    "float_to_bool    = bool (data_float)\n",
    "\n",
    "print(\"nilai variabel data_float =\",data_float)\n",
    "print(float_to_int)\n",
    "print(float_to_bool)\n",
    "print(float_to_string)"
   ]
  },
  {
   "cell_type": "code",
   "execution_count": null,
   "id": "34b096ee",
   "metadata": {},
   "outputs": [],
   "source": [
    "bool_to_string   = str (data_bool)\n",
    "bool_to_int      = int (data_bool)\n",
    "bool_to_float    = float (data_bool)\n",
    "\n",
    "print(\"nilai variabel data_bool =\",data_bool)\n",
    "print(bool_to_int)\n",
    "print(bool_to_float)\n",
    "print(bool_to_string)"
   ]
  },
  {
   "cell_type": "code",
   "execution_count": null,
   "id": "c3e87a06",
   "metadata": {},
   "outputs": [],
   "source": [
    "bil1 = int(input(\"masukkan bilangan ke-1 : \"))\n",
    "bil2 = int(input(\"masukkan bilangan ke-2 : \"))\n",
    "hasil_tambah = bil1 + bil2\n",
    "hasil_kurang = bil1 - bil2\n",
    "hasil_kali   = bil1 * bil2\n",
    "hasil_bagi   = bil1 / bil2\n",
    "\n",
    "print (\"hasil penjumlahan = \",hasil_tambah)\n",
    "print (\"hasil pengurangan = \",hasil_kurang)\n",
    "print (\"hasil perkalian   = \",hasil_kali)\n",
    "print (\"hasil pembagian   = \",hasil_bagi)"
   ]
  }
 ],
 "metadata": {
  "kernelspec": {
   "display_name": "Python 3 (ipykernel)",
   "language": "python",
   "name": "python3"
  },
  "language_info": {
   "codemirror_mode": {
    "name": "ipython",
    "version": 3
   },
   "file_extension": ".py",
   "mimetype": "text/x-python",
   "name": "python",
   "nbconvert_exporter": "python",
   "pygments_lexer": "ipython3",
   "version": "3.9.12"
  }
 },
 "nbformat": 4,
 "nbformat_minor": 5
}
